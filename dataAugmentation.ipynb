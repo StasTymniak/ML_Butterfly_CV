{
 "cells": [
  {
   "cell_type": "code",
   "execution_count": 3,
   "metadata": {},
   "outputs": [
    {
     "name": "stdout",
     "output_type": "stream",
     "text": [
      "WARNING:tensorflow:From C:\\Users\\MSI\\AppData\\Local\\Packages\\PythonSoftwareFoundation.Python.3.9_qbz5n2kfra8p0\\LocalCache\\local-packages\\Python39\\site-packages\\keras\\src\\losses.py:2976: The name tf.losses.sparse_softmax_cross_entropy is deprecated. Please use tf.compat.v1.losses.sparse_softmax_cross_entropy instead.\n",
      "\n"
     ]
    }
   ],
   "source": [
    "import os\n",
    "import numpy as np\n",
    "import matplotlib.pyplot as plt\n",
    "from tensorflow.keras.preprocessing.image import ImageDataGenerator, load_img, img_to_array"
   ]
  },
  {
   "cell_type": "code",
   "execution_count": 8,
   "metadata": {},
   "outputs": [
    {
     "name": "stdout",
     "output_type": "stream",
     "text": [
      "Number of classes: 100\n",
      "Max number of images per class: 156\n",
      "Min number of images per class: 86\n",
      "Difference: 70\n",
      "Mean number of images per class: 109.0\n"
     ]
    }
   ],
   "source": [
    "numbers = []\n",
    "\n",
    "#Підраховуємо кількість зображень для кожного класу\n",
    "for folder in os.listdir('train'):\n",
    "    numbers.append(len(os.listdir('train/{folder}'.format(folder=folder))))\n",
    "\n",
    "print('Number of classes: '+str(len(numbers)))\n",
    "print('Max number of images per class: '+str(max(numbers)))\n",
    "print('Min number of images per class: '+str(min(numbers)))\n",
    "print('Difference: '+str((max(numbers)-min(numbers))))\n",
    "print('Mean number of images per class: '+str(np.mean(numbers).round()))\n"
   ]
  },
  {
   "cell_type": "code",
   "execution_count": 5,
   "metadata": {},
   "outputs": [],
   "source": [
    "# ImageDataGenerator - генератор зображень\n",
    "datagen = ImageDataGenerator(\n",
    "\trotation_range=30,\n",
    "\tbrightness_range=[0.2,1.5],\n",
    "\thorizontal_flip=True,\n",
    "\tvertical_flip=True,\n",
    "\twidth_shift_range=0.2, \n",
    "\theight_shift_range=0.2,\n",
    "\tfill_mode='nearest')"
   ]
  },
  {
   "cell_type": "markdown",
   "metadata": {},
   "source": [
    "Check max number of images through all classes and augment every other class with new generated images to that number "
   ]
  },
  {
   "cell_type": "code",
   "execution_count": 6,
   "metadata": {},
   "outputs": [
    {
     "name": "stdout",
     "output_type": "stream",
     "text": [
      "[156, 156, 156, 156, 155, 156, 156, 156, 156, 155, 156, 156, 155, 156, 156, 156, 156, 156, 156, 156, 156, 156, 156, 156, 156, 156, 156, 156, 156, 156, 156, 156, 156, 156, 156, 155, 156, 156, 156, 156, 156, 156, 156, 156, 156, 155, 156, 156, 156, 156, 155, 156, 155, 155, 156, 156, 154, 155, 156, 156, 156, 156, 156, 156, 155, 156, 156, 156, 156, 156, 156, 156, 156, 156, 156, 156, 156, 155, 156, 156, 156, 156, 156, 156, 155, 156, 156, 156, 156, 156, 156, 156, 156, 156, 156, 155, 156, 156, 156, 156]\n",
      "010db0734e2b459c9b8b3085198b284a.jpg\n",
      "01e7eca91665400e8115c246300cbf1a.jpg\n",
      "028d28673f654d1f83780a8536c8edc2.jpg\n",
      "01c0f4a3a729446a98c22362c432f7b1.jpg\n",
      "000aa66c440e41d2821972df9a2d68f6.jpg\n",
      "065e240a428f483688cd75127d644ff2.jpg\n",
      "019b0f37e21245bca02b432befe95994.jpg\n",
      "053ccf7ae6014b6688f58d62d9c0e0ee.jpg\n",
      "0373603c5c234a09a5672f44bf5b984a.jpg\n",
      "007023f8b4f149d0981dd70f3aef91aa.jpg\n",
      "0486ba1556054376b243629bf2169c53.jpg\n",
      "00f051b83d614d0bbe7271c55aac4dbb.jpg\n",
      "019328cb819b4d8eb640ffb00ce67039.jpg\n",
      "0364bcfaa6e749368b67ba2598733725.jpg\n"
     ]
    }
   ],
   "source": [
    "numbers = []\n",
    "\n",
    "for folder in os.listdir('trainC'):\n",
    "    numbers.append(len(os.listdir('trainC/{folder}'.format(folder=folder))))\n",
    "\n",
    "print(numbers)\n",
    "# Максимальна кількість зображень для одного класу\n",
    "max_number_per_class = max(numbers)\n",
    "for folder in os.listdir('trainC'):\n",
    "    dirs = os.listdir('trainC/{folder}'.format(folder=folder))\n",
    "    # Генеруємо нові зображення на основі наявного для кожного класу поки кількість зображень менша за максимальне\n",
    "    if(len(dirs)<max_number_per_class):\n",
    "        i = len(dirs)\n",
    "        print(dirs[0])\n",
    "        image_name = dirs[0]\n",
    "        image = load_img('trainC/{folder}/{image}'.format(folder=folder,image=image_name))\n",
    "        img = img_to_array(image)\n",
    "        img = np.expand_dims(img, axis=0)\n",
    "        aug_iter = datagen.flow(img, batch_size=1,save_to_dir='trainC/{folder}'.format(folder=folder))\n",
    "        while(i<max_number_per_class):\n",
    "            next(aug_iter)\n",
    "            i+=1\n",
    "        \n",
    "# Отримаємо однакову кількість зображень для кожного класу, для коректного навчання"
   ]
  }
 ],
 "metadata": {
  "kernelspec": {
   "display_name": "Python 3",
   "language": "python",
   "name": "python3"
  },
  "language_info": {
   "codemirror_mode": {
    "name": "ipython",
    "version": 3
   },
   "file_extension": ".py",
   "mimetype": "text/x-python",
   "name": "python",
   "nbconvert_exporter": "python",
   "pygments_lexer": "ipython3",
   "version": "3.9.13"
  }
 },
 "nbformat": 4,
 "nbformat_minor": 2
}
